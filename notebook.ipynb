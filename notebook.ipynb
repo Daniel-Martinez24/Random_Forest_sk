{
 "cells": [
  {
   "cell_type": "code",
   "metadata": {
    "tags": [],
    "cell_id": "966b8e63-6966-4519-a356-54424562e6c5",
    "deepnote_to_be_reexecuted": false,
    "source_hash": "92475d07",
    "execution_start": 1656953284097,
    "execution_millis": 1391,
    "deepnote_cell_type": "code",
    "deepnote_cell_height": 189
   },
   "source": "# Import required libraries\nfrom sklearn.ensemble import RandomForestClassifier\nfrom sklearn.model_selection import train_test_split\nfrom sklearn import datasets \nfrom sklearn import metrics\n\nimport pandas as pd",
   "execution_count": 1,
   "outputs": []
  },
  {
   "cell_type": "code",
   "source": "# the iris dataset \n# https://scikit-learn.org/stable/auto_examples/datasets/plot_iris_dataset.html\niris = datasets.load_iris()\nprint(iris.target_names) ; print(iris.feature_names)",
   "metadata": {
    "cell_id": "92dc2541d67347de9a3117a9bf8e7770",
    "tags": [],
    "deepnote_to_be_reexecuted": false,
    "source_hash": "11ebaa04",
    "execution_start": 1656953285491,
    "execution_millis": 13,
    "deepnote_cell_type": "code",
    "deepnote_cell_height": 186.375
   },
   "outputs": [
    {
     "name": "stdout",
     "text": "['setosa' 'versicolor' 'virginica']\n['sepal length (cm)', 'sepal width (cm)', 'petal length (cm)', 'petal width (cm)']\n",
     "output_type": "stream"
    }
   ],
   "execution_count": 2
  },
  {
   "cell_type": "code",
   "source": "# iris dataset divied between target and features\nX, y = datasets.load_iris(return_X_y = True)\n# print(X) ; print(y)",
   "metadata": {
    "cell_id": "08e2764b33a74011a0016f7c4a804fc7",
    "tags": [],
    "deepnote_to_be_reexecuted": false,
    "source_hash": "5983be0f",
    "execution_start": 1656953285506,
    "execution_millis": 5,
    "deepnote_cell_type": "code",
    "deepnote_cell_height": 117
   },
   "outputs": [],
   "execution_count": 3
  },
  {
   "cell_type": "code",
   "source": "# separate the test data and train data, using 20% to the test\nX_train, X_test, y_train, y_test = train_test_split(X, y, test_size=.20)",
   "metadata": {
    "cell_id": "e4fc3154916145e7b1dceb739a6aaefd",
    "tags": [],
    "deepnote_to_be_reexecuted": false,
    "source_hash": "296d66f2",
    "execution_start": 1656953285517,
    "execution_millis": 3,
    "deepnote_cell_type": "code",
    "deepnote_cell_height": 99
   },
   "outputs": [],
   "execution_count": 4
  },
  {
   "cell_type": "code",
   "source": "# iris dataset to dataframe\ndata = pd.DataFrame({\n    'sepal_length' : iris.data[:, 0], 'sepal_width': iris.data[:, 1],\n    'petal_length' : iris.data[:, 2], 'petal_width': iris.data[:, 3],\n    'species' : iris.target\n})\nprint(data.head())",
   "metadata": {
    "cell_id": "e62613d98f824955ab6bf8c1dd766f96",
    "tags": [],
    "deepnote_to_be_reexecuted": false,
    "source_hash": "93e9da72",
    "execution_start": 1656953285524,
    "execution_millis": 34,
    "deepnote_cell_type": "code",
    "deepnote_cell_height": 321.125
   },
   "outputs": [
    {
     "name": "stdout",
     "text": "   sepal_length  sepal_width  petal_length  petal_width  species\n0           5.1          3.5           1.4          0.2        0\n1           4.9          3.0           1.4          0.2        0\n2           4.7          3.2           1.3          0.2        0\n3           4.6          3.1           1.5          0.2        0\n4           5.0          3.6           1.4          0.2        0\n",
     "output_type": "stream"
    }
   ],
   "execution_count": 5
  },
  {
   "cell_type": "code",
   "source": "# list of estimates\nnumber_of_trees = [1, 10, 50, 100, 500, 1000]",
   "metadata": {
    "cell_id": "fd4cef34e2614401b518eb815012fd40",
    "tags": [],
    "deepnote_to_be_reexecuted": false,
    "source_hash": "107b6e0b",
    "execution_start": 1656953285557,
    "execution_millis": 0,
    "deepnote_cell_type": "code",
    "deepnote_cell_height": 99
   },
   "outputs": [],
   "execution_count": 6
  },
  {
   "cell_type": "code",
   "source": "# learning funtion\ndef learing_alg(estimator):\n    rfc = RandomForestClassifier(n_estimators=estimator)\n    rfc.fit(X_train, y_train)\n    y_res = rfc.predict(X_test)\n    print('Accuracy with ', estimator, ' is ', metrics.accuracy_score(y_test, y_res))",
   "metadata": {
    "cell_id": "a4af4a3151534565a5930c39f9a2dfb4",
    "tags": [],
    "deepnote_to_be_reexecuted": false,
    "source_hash": "13aa0bda",
    "execution_start": 1656953285557,
    "execution_millis": 1,
    "deepnote_cell_type": "code",
    "deepnote_cell_height": 171
   },
   "outputs": [],
   "execution_count": 7
  },
  {
   "cell_type": "code",
   "source": "# best estimation\nfor _estimator in number_of_trees:\n    learing_alg(_estimator)",
   "metadata": {
    "cell_id": "3391179d0cec48cb9bfeaf5f31464b34",
    "tags": [],
    "deepnote_to_be_reexecuted": false,
    "source_hash": "41aa49c",
    "execution_start": 1656953285558,
    "execution_millis": 2554,
    "deepnote_cell_type": "code",
    "deepnote_cell_height": 249.125
   },
   "outputs": [
    {
     "name": "stdout",
     "text": "Accuracy with  1  is  0.8333333333333334\nAccuracy with  10  is  0.8666666666666667\nAccuracy with  50  is  0.8666666666666667\nAccuracy with  100  is  0.8666666666666667\nAccuracy with  500  is  0.8666666666666667\nAccuracy with  1000  is  0.8666666666666667\n",
     "output_type": "stream"
    }
   ],
   "execution_count": 8
  },
  {
   "cell_type": "markdown",
   "source": "## Results\nThere is no difference using between 10 to 100 trees",
   "metadata": {
    "cell_id": "d48fd7d606b44bdaa4f1e236005d231c",
    "tags": [],
    "owner_user_id": "0f0daa70-4ecf-4d41-994f-2873c1521ab3",
    "deepnote_cell_type": "markdown",
    "deepnote_cell_height": 108.390625
   }
  },
  {
   "cell_type": "markdown",
   "source": "<a style='text-decoration:none;line-height:16px;display:flex;color:#5B5B62;padding:10px;justify-content:end;' href='https://deepnote.com?utm_source=created-in-deepnote-cell&projectId=b20b6b57-c6ac-46fa-a9a7-fc51b4c0d40c' target=\"_blank\">\n<img alt='Created in deepnote.com' style='display:inline;max-height:16px;margin:0px;margin-right:7.5px;' src='data:image/svg+xml;base64,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' > </img>\nCreated in <span style='font-weight:600;margin-left:4px;'>Deepnote</span></a>",
   "metadata": {
    "tags": [],
    "created_in_deepnote_cell": true,
    "deepnote_cell_type": "markdown"
   }
  }
 ],
 "nbformat": 4,
 "nbformat_minor": 2,
 "metadata": {
  "orig_nbformat": 2,
  "deepnote": {},
  "deepnote_notebook_id": "3a8e2cc7-a133-429e-a465-bbb125672de9",
  "deepnote_execution_queue": []
 }
}